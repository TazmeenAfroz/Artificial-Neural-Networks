{
 "cells": [
  {
   "cell_type": "markdown",
   "metadata": {},
   "source": [
    "# Convolutional Neural Networks"
   ]
  },
  {
   "cell_type": "code",
   "execution_count": 1,
   "metadata": {},
   "outputs": [],
   "source": [
    "import numpy as np\n",
    "from matplotlib import pyplot as plt"
   ]
  },
  {
   "cell_type": "code",
   "execution_count": 2,
   "metadata": {},
   "outputs": [],
   "source": [
    "def conv2d(image, kernel):\n",
    "    kernel_height, kernel_width = kernel.shape\n",
    "    image_height, image_width   = image.shape\n",
    "    output_height = image_height - kernel_height + 1\n",
    "    output_width = image_width - kernel_width + 1\n",
    "    output = np.zeros((output_height, output_width))\n",
    "    \n",
    "    for i in range(output_height):\n",
    "        for j in range(output_width):\n",
    "            region = image[i:i+kernel_height, j:j+kernel_width]\n",
    "            output[i, j] = np.sum(region * kernel)\n",
    "    \n",
    "    return output"
   ]
  },
  {
   "cell_type": "code",
   "execution_count": 3,
   "metadata": {},
   "outputs": [],
   "source": [
    "def relu(x):\n",
    "    return np.maximum(0, x)"
   ]
  },
  {
   "cell_type": "code",
   "execution_count": 4,
   "metadata": {},
   "outputs": [],
   "source": [
    "def max_pooling(image, pool_size=2):\n",
    "    image_height, image_width = image.shape\n",
    "\n",
    "    output_height = (image_height + pool_size - 1) // pool_size\n",
    "    output_width = (image_width + pool_size - 1) // pool_size\n",
    "    output = np.zeros((output_height, output_width))\n",
    "\n",
    "    for i in range(output_height):\n",
    "        for j in range(output_width):\n",
    "            start_i = i * pool_size\n",
    "            start_j = j * pool_size\n",
    "            end_i = min(start_i + pool_size, image_height)\n",
    "            end_j = min(start_j + pool_size, image_width)\n",
    "\n",
    "            region = image[start_i:end_i, start_j:end_j]\n",
    "            output[i, j] = np.max(region)\n",
    "\n",
    "    return output"
   ]
  },
  {
   "cell_type": "code",
   "execution_count": 5,
   "metadata": {},
   "outputs": [],
   "source": [
    "def avg_pooling(image, pool_size=2):\n",
    "    image_height, image_width = image.shape\n",
    "\n",
    "    output_height = (image_height + pool_size - 1) // pool_size\n",
    "    output_width = (image_width + pool_size - 1) // pool_size\n",
    "    output = np.zeros((output_height, output_width))\n",
    "\n",
    "    for i in range(output_height):\n",
    "        for j in range(output_width):\n",
    "            start_i = i * pool_size\n",
    "            start_j = j * pool_size\n",
    "            end_i = min(start_i + pool_size, image_height)\n",
    "            end_j = min(start_j + pool_size, image_width)\n",
    "\n",
    "            region = image[start_i:end_i, start_j:end_j]\n",
    "            output[i, j] = np.average(region)\n",
    "\n",
    "    return output"
   ]
  },
  {
   "cell_type": "code",
   "execution_count": 6,
   "metadata": {},
   "outputs": [],
   "source": [
    "def dense_layer(inputs, weights, bias):\n",
    "    return np.dot(inputs, weights) + bias\n",
    "\n",
    "def softmax(x):\n",
    "    exp_x = np.exp(x - np.max(x))\n",
    "    return exp_x / np.sum(exp_x)"
   ]
  },
  {
   "cell_type": "markdown",
   "metadata": {},
   "source": [
    "# Working Example"
   ]
  },
  {
   "cell_type": "code",
   "execution_count": 7,
   "metadata": {},
   "outputs": [
    {
     "data": {
      "image/png": "[encoded data removed]",
      "text/plain": [
       "<Figure size 1000x500 with 10 Axes>"
      ]
     },
     "metadata": {},
     "output_type": "display_data"
    }
   ],
   "source": [
    "dataset = [\n",
    "    np.array([\n",
    "        [0, 1, 1, 1, 0],\n",
    "        [0, 1, 0, 1, 0],\n",
    "        [0, 1, 0, 1, 0],\n",
    "        [0, 1, 0, 1, 0],\n",
    "        [0, 1, 1, 1, 0]\n",
    "    ]),\n",
    "    np.array([\n",
    "        [0, 0, 1, 0, 0],\n",
    "        [0, 0, 1, 0, 0],\n",
    "        [0, 0, 1, 0, 0],\n",
    "        [0, 0, 1, 0, 0],\n",
    "        [0, 0, 1, 0, 0]\n",
    "    ]),\n",
    "    np.array([\n",
    "        [0, 1, 1, 1, 0],\n",
    "        [0, 0, 0, 1, 0],\n",
    "        [0, 0, 1, 0, 0],\n",
    "        [0, 1, 0, 0, 0],\n",
    "        [0, 1, 1, 1, 0]\n",
    "    ]),\n",
    "    np.array([\n",
    "        [0, 1, 1, 1, 0],\n",
    "        [0, 0, 0, 1, 0],\n",
    "        [0, 1, 1, 1, 0],\n",
    "        [0, 0, 0, 1, 0],\n",
    "        [0, 1, 1, 1, 0]\n",
    "    ]),\n",
    "    np.array([\n",
    "        [0, 1, 0, 0, 0],\n",
    "        [0, 1, 0, 1, 0],\n",
    "        [0, 1, 1, 1, 0],\n",
    "        [0, 0, 0, 1, 0],\n",
    "        [0, 0, 0, 1, 0]\n",
    "    ]),\n",
    "    np.array([\n",
    "        [0, 1, 1, 1, 0],\n",
    "        [0, 1, 0, 0, 0],\n",
    "        [0, 1, 1, 1, 0],\n",
    "        [0, 0, 0, 1, 0],\n",
    "        [0, 1, 1, 1, 0]\n",
    "    ]),\n",
    "    np.array([\n",
    "        [0, 1, 1, 1, 0],\n",
    "        [0, 1, 0, 0, 0],\n",
    "        [0, 1, 1, 1, 0],\n",
    "        [0, 1, 0, 1, 0],\n",
    "        [0, 1, 1, 1, 0]\n",
    "    ]),\n",
    "    np.array([\n",
    "        [0, 1, 1, 1, 0],\n",
    "        [0, 0, 0, 1, 0],\n",
    "        [0, 0, 0, 1, 0],\n",
    "        [0, 0, 0, 1, 0],\n",
    "        [0, 0, 0, 1, 0]\n",
    "    ]),\n",
    "    np.array([\n",
    "        [0, 1, 1, 1, 0],\n",
    "        [0, 1, 0, 1, 0],\n",
    "        [0, 1, 1, 1, 0],\n",
    "        [0, 1, 0, 1, 0],\n",
    "        [0, 1, 1, 1, 0]\n",
    "    ]),\n",
    "    np.array([\n",
    "        [0, 1, 1, 1, 0],\n",
    "        [0, 1, 0, 1, 0],\n",
    "        [0, 1, 1, 1, 0],\n",
    "        [0, 0, 0, 1, 0],\n",
    "        [0, 0, 0, 1, 0]\n",
    "    ])\n",
    "    \n",
    "]\n",
    "\n",
    "labels = [\n",
    "    np.array([1, 0, 0, 0, 0, 0, 0, 0, 0, 0]),  # Label for first image\n",
    "    np.array([0, 1, 0, 0, 0, 0, 0, 0, 0, 0]),  # Label for first image\n",
    "    np.array([0, 0, 1, 0, 0, 0, 0, 0, 0, 0]),  # Label for second image\n",
    "    np.array([0, 0, 0, 1, 0, 0, 0, 0, 0, 0]),  # Label for first image\n",
    "    np.array([0, 0, 0, 0, 1, 0, 0, 0, 0, 0]),  # Label for first image\n",
    "    np.array([0, 0, 0, 0, 0, 1, 0, 0, 0, 0]),  # Label for first image\n",
    "    np.array([0, 0, 0, 0, 0, 0, 1, 0, 0, 0]),  # Label for first image\n",
    "    np.array([0, 0, 0, 0, 0, 0, 0, 1, 0, 0]),  # Label for first image\n",
    "    np.array([0, 0, 0, 0, 0, 0, 0, 0, 1, 0]),  # Label for first image\n",
    "    np.array([0, 0, 0, 0, 0, 0, 0, 0, 0, 1]),  # Label for first image\n",
    "]\n",
    "\n",
    "fig, axes = plt.subplots(2, 5, figsize=(10, 5))\n",
    "for i, ax in enumerate(axes.flat):\n",
    "    ax.imshow(dataset[i], cmap='gray_r')\n",
    "    ax.set_title(f\"Digit {i}\")\n",
    "    ax.axis('off')\n",
    "\n",
    "plt.tight_layout()\n",
    "plt.show()"
   ]
  },
  {
   "cell_type": "code",
   "execution_count": 11,
   "metadata": {},
   "outputs": [],
   "source": [
    "kernel = np.random.randn(3, 3)\n",
    "feature_map  = conv2d(img, kernel)\n",
    "activated    = relu(feature_map)\n",
    "pooled       = max_pooling(activated, pool_size=2)\n",
    "flattened    = pooled.flatten()"
   ]
  },
  {
   "cell_type": "code",
   "execution_count": 14,
   "metadata": {},
   "outputs": [
    {
     "name": "stdout",
     "output_type": "stream",
     "text": [
      "Epoch 1, Loss: 2.3686\n",
      "Epoch 2, Loss: 2.3399\n",
      "Epoch 3, Loss: 2.3138\n",
      "Epoch 4, Loss: 2.2862\n",
      "Epoch 5, Loss: 2.2534\n",
      "Epoch 6, Loss: 2.2112\n",
      "Epoch 7, Loss: 2.1584\n",
      "Epoch 8, Loss: 2.0955\n",
      "Epoch 9, Loss: 2.0248\n",
      "Epoch 10, Loss: 1.9469\n",
      "Updated Kernel: [[-1.38163429  1.15691799  0.85067741]\n",
      " [ 0.16578859 -1.26846557 -0.00234274]\n",
      " [-0.08340837 -0.03053193 -0.88981685]]\n"
     ]
    }
   ],
   "source": [
    "kernel = np.random.randn(3, 3)\n",
    "fc_weights = np.random.randn(len(flattened), 10)*0.01\n",
    "fc_bias = np.random.randn(10)*0.01\n",
    "\n",
    "epochs = 10\n",
    "learning_rate = 0.1\n",
    "\n",
    "for epoch in range(epochs):\n",
    "\n",
    "    total_loss = 0\n",
    "\n",
    "    for img, label in zip(dataset, labels):\n",
    "        \n",
    "        # Forward\n",
    "        feature_map  = conv2d(img, kernel)\n",
    "        activated    = relu(feature_map)\n",
    "        pooled       = max_pooling(activated, pool_size=2)\n",
    "        flattened    = pooled.flatten()\n",
    "        dense_output = dense_layer(flattened, fc_weights, fc_bias)\n",
    "        output_layer = softmax(dense_output)\n",
    "        # Forward End\n",
    "\n",
    "        loss_gradient = output_layer - label\n",
    "        \n",
    "        #fc_weights_gradient = np.outer(flattened, loss_gradient)\n",
    "        fc_weights_gradient = np.dot(flattened[:, np.newaxis], loss_gradient[np.newaxis, :])\n",
    "        fc_bias_gradient    = loss_gradient\n",
    "        flattened_gradient  = np.dot(fc_weights, loss_gradient)\n",
    "\n",
    "        # Reshape for pooling layer\n",
    "        pooled_gradient = flattened_gradient.reshape(pooled.shape)\n",
    "    \n",
    "        # Backprop through max pooling\n",
    "        feature_map_gradient = np.zeros_like(activated)\n",
    "        for i in range(pooled.shape[0]):\n",
    "            for j in range(pooled.shape[1]):\n",
    "                max_val = pooled[i, j]\n",
    "                for m in range(2):\n",
    "                    for n in range(2):\n",
    "                        orig_x, orig_y = i*2 + m, j*2 + n\n",
    "                        if orig_x < activated.shape[0] and orig_y < activated.shape[1]:  # Check bounds\n",
    "                            if activated[orig_x, orig_y] == max_val:\n",
    "                                feature_map_gradient[orig_x, orig_y] = pooled_gradient[i, j]\n",
    "\n",
    "    \n",
    "        # Backprop through ReLU\n",
    "        feature_map_gradient *= np.where(feature_map > 0, 1, 0)\n",
    "    \n",
    "        # Backprop through convolution\n",
    "        kernel_gradient = np.zeros_like(kernel)\n",
    "        \n",
    "        for i in range(kernel.shape[0]):\n",
    "            for j in range(kernel.shape[1]):\n",
    "                kernel_gradient[i, j] = np.sum(img[i:i+feature_map.shape[0], j:j+feature_map.shape[1]] * feature_map_gradient)\n",
    "    \n",
    "        # Update weights\n",
    "        fc_weights -= learning_rate * fc_weights_gradient\n",
    "        fc_bias -= learning_rate * fc_bias_gradient\n",
    "        kernel -= learning_rate * kernel_gradient\n",
    "\n",
    "        loss = -np.sum(label * np.log(output_layer + 1e-9))\n",
    "        total_loss += loss\n",
    "  \n",
    "    avg_loss = total_loss / len(dataset)\n",
    "    print(f\"Epoch {epoch+1}, Loss: {avg_loss:.4f}\")\n",
    "        \n",
    "print(\"Updated Kernel:\", kernel)"
   ]
  },
  {
   "cell_type": "code",
   "execution_count": null,
   "metadata": {},
   "outputs": [],
   "source": []
  }
 ],
 "metadata": {
  "kaggle": {
   "accelerator": "none",
   "dataSources": [
    {
     "datasetId": 655490,
     "sourceId": 1158529,
     "sourceType": "datasetVersion"
    },
    {
     "datasetId": 658845,
     "sourceId": 1163269,
     "sourceType": "datasetVersion"
    }
   ],
   "isGpuEnabled": false,
   "isInternetEnabled": true,
   "language": "python",
   "sourceType": "notebook"
  },
  "kernelspec": {
   "display_name": "Python 3 (ipykernel)",
   "language": "python",
   "name": "python3"
  },
  "language_info": {
   "codemirror_mode": {
    "name": "ipython",
    "version": 3
   },
   "file_extension": ".py",
   "mimetype": "text/x-python",
   "name": "python",
   "nbconvert_exporter": "python",
   "pygments_lexer": "ipython3",
   "version": "3.13.2"
  }
 },
 "nbformat": 4,
 "nbformat_minor": 4
}
